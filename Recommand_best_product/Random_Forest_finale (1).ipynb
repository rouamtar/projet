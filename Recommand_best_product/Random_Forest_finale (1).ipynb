{
  "nbformat": 4,
  "nbformat_minor": 0,
  "metadata": {
    "colab": {
      "provenance": []
    },
    "kernelspec": {
      "name": "python3",
      "display_name": "Python 3"
    },
    "language_info": {
      "name": "python"
    }
  },
  "cells": [
    {
      "cell_type": "code",
      "source": [
        "# 🔎 1. Importer les librairies nécessaires\n",
        "from sklearn.ensemble import RandomForestClassifier\n",
        "from sklearn.model_selection import train_test_split\n",
        "from sklearn.metrics import accuracy_score\n",
        "import pandas as pd\n",
        "\n",
        "# 📥 2. Charger les données\n",
        "try:\n",
        "    df = pd.read_csv('/content/source.csv')\n",
        "    print(\"✅ Données chargées avec succès.\")\n",
        "except Exception as e:\n",
        "    print(\"❌ Erreur lors du chargement du fichier :\", e)\n",
        "\n",
        "# 📉 3. Définir les features et la target (modèle très simple)\n",
        "try:\n",
        "    X = df[['Prix']]  # Uniquement le prix\n",
        "    y = df['Nom']\n",
        "except KeyError as e:\n",
        "    print(\"❌ Colonne manquante :\", e)\n",
        "\n",
        "# 🔀 4. Split train/test\n",
        "X_train, X_test, y_train, y_test = train_test_split(\n",
        "    X, y, test_size=0.2, random_state=42)\n",
        "\n",
        "# 🌲 5. Entraînement du modèle Random Forest\n",
        "try:\n",
        "    rf = RandomForestClassifier(n_estimators=100, random_state=42)\n",
        "    rf.fit(X_train, y_train)\n",
        "    print(\"✅ Random Forest entraîné.\")\n",
        "except Exception as e:\n",
        "    print(\"❌ Erreur lors de l'entraînement :\", e)\n",
        "\n",
        "# 📈 6. Prédictions + Accuracy\n",
        "try:\n",
        "    y_pred = rf.predict(X_test)\n",
        "    accuracy = accuracy_score(y_test, y_pred)\n",
        "    print(f\"🌲 Accuracy Random Forest (Prix seul) : {accuracy:.2f}\")\n",
        "except Exception as e:\n",
        "    print(\"❌ Erreur de prédiction :\", e)\n"
      ],
      "metadata": {
        "colab": {
          "base_uri": "https://localhost:8080/"
        },
        "id": "6FGir6pTv_co",
        "outputId": "21fa93be-968d-4b10-89e5-9f67ff08d9cc"
      },
      "execution_count": null,
      "outputs": [
        {
          "output_type": "stream",
          "name": "stdout",
          "text": [
            "✅ Données chargées avec succès.\n",
            "✅ Random Forest entraîné.\n",
            "🌲 Accuracy Random Forest (Prix seul) : 0.41\n"
          ]
        }
      ]
    },
    {
      "cell_type": "code",
      "source": [],
      "metadata": {
        "id": "kSzyICkgwbbI"
      },
      "execution_count": null,
      "outputs": []
    },
    {
      "cell_type": "code",
      "execution_count": null,
      "metadata": {
        "colab": {
          "base_uri": "https://localhost:8080/"
        },
        "outputId": "e997d693-5883-40f3-c34c-d1bab095de53",
        "id": "v6enAm8jzaw7"
      },
      "outputs": [
        {
          "output_type": "stream",
          "name": "stdout",
          "text": [
            "Accuracy : 0.80\n",
            "Exemple :  Jus orange DÉLICE\n"
          ]
        },
        {
          "output_type": "stream",
          "name": "stderr",
          "text": [
            "/usr/local/lib/python3.11/dist-packages/sklearn/utils/validation.py:2739: UserWarning: X does not have valid feature names, but RandomForestClassifier was fitted with feature names\n",
            "  warnings.warn(\n"
          ]
        }
      ],
      "source": [
        "import pandas as pd\n",
        "from sklearn.model_selection import train_test_split\n",
        "from sklearn.preprocessing import LabelEncoder\n",
        "from sklearn.ensemble import RandomForestClassifier\n",
        "from sklearn.metrics import accuracy_score\n",
        "\n",
        "# 1. Charger le fichier\n",
        "url = '/content/source.csv'  # upload ce fichier dans Colab\n",
        "df = pd.read_csv(url)\n",
        "\n",
        "# 2. Encodage des colonnes catégorielles\n",
        "le_marque = LabelEncoder()\n",
        "le_taille = LabelEncoder()\n",
        "le_nom = LabelEncoder()\n",
        "\n",
        "df['Marque_enc'] = le_marque.fit_transform(df['Marque'])\n",
        "df['Taille_enc'] = le_taille.fit_transform(df['Taille'])\n",
        "df['Nom_enc'] = le_nom.fit_transform(df['Nom'])\n",
        "\n",
        "# 3. Features et target\n",
        "X = df[['Marque_enc', 'Taille_enc', 'Prix', 'Categorie']]\n",
        "y = df['Nom_enc']\n",
        "\n",
        "# 4. Séparation en train/test\n",
        "X_train, X_test, y_train, y_test = train_test_split(X, y, test_size=0.2, random_state=42)\n",
        "\n",
        "# 5. Modèle\n",
        "model = RandomForestClassifier(n_estimators=200, random_state=42)\n",
        "model.fit(X_train, y_train)\n",
        "\n",
        "# 6. Prédictions et accuracy\n",
        "y_pred = model.predict(X_test)\n",
        "accuracy = accuracy_score(y_test, y_pred)\n",
        "print(f\"Accuracy : {accuracy:.2f}\")\n",
        "\n",
        "# 7. Exemple de prédiction\n",
        "def predire_nom(marque, taille, prix, categorie):\n",
        "    marque_enc = le_marque.transform([marque])[0]\n",
        "    taille_enc = le_taille.transform([taille])[0]\n",
        "    features = [[marque_enc, taille_enc, prix, categorie]]\n",
        "    pred_encoded = model.predict(features)[0]\n",
        "    return le_nom.inverse_transform([pred_encoded])[0]\n",
        "\n",
        "# Exemple\n",
        "print(\"Exemple : \", predire_nom(\"DÉLICE\", \"La bouteille de 1L\", 2.5, 1))\n"
      ]
    },
    {
      "cell_type": "code",
      "source": [],
      "metadata": {
        "id": "io0zTQyuwh_b"
      },
      "execution_count": null,
      "outputs": []
    },
    {
      "cell_type": "code",
      "source": [
        "# Exemple\n",
        "print(\"Exemple : \", predire_nom(\"BOUCHERIE\", \"Barquette 250g\", 6.8, 3))"
      ],
      "metadata": {
        "colab": {
          "base_uri": "https://localhost:8080/"
        },
        "id": "yfYOHeoRziYd",
        "outputId": "e743f72f-0fd1-424f-830d-228ed00b90b7"
      },
      "execution_count": null,
      "outputs": [
        {
          "output_type": "stream",
          "name": "stdout",
          "text": [
            "Exemple :  Viande hachée 5%\n"
          ]
        },
        {
          "output_type": "stream",
          "name": "stderr",
          "text": [
            "/usr/local/lib/python3.11/dist-packages/sklearn/utils/validation.py:2739: UserWarning: X does not have valid feature names, but RandomForestClassifier was fitted with feature names\n",
            "  warnings.warn(\n"
          ]
        }
      ]
    },
    {
      "cell_type": "code",
      "source": [],
      "metadata": {
        "id": "ref5WD5dwmZP"
      },
      "execution_count": null,
      "outputs": []
    },
    {
      "cell_type": "code",
      "source": [
        "# 1. Installer les librairies nécessaires (RandomForest est inclus dans sklearn)\n",
        "import pandas as pd\n",
        "from sklearn.model_selection import train_test_split\n",
        "from sklearn.preprocessing import LabelEncoder\n",
        "from sklearn.metrics import accuracy_score\n",
        "from sklearn.ensemble import RandomForestClassifier\n",
        "\n",
        "# 2. Charger le fichier\n",
        "df = pd.read_csv('/content/source.csv')\n",
        "\n",
        "# 3. Encodage des colonnes catégorielles\n",
        "le_marque = LabelEncoder()\n",
        "le_taille = LabelEncoder()\n",
        "le_nom = LabelEncoder()\n",
        "\n",
        "df['Marque_enc'] = le_marque.fit_transform(df['Marque'])\n",
        "df['Taille_enc'] = le_taille.fit_transform(df['Taille'])\n",
        "df['Nom_enc'] = le_nom.fit_transform(df['Nom'])\n",
        "\n",
        "# 4. Définir features et target\n",
        "X = df[['Marque_enc', 'Taille_enc', 'Prix', 'Categorie']]\n",
        "y = df['Nom_enc']\n",
        "\n",
        "# 5. Split train/test\n",
        "X_train, X_test, y_train, y_test = train_test_split(\n",
        "    X, y, test_size=0.2, random_state=42)\n",
        "\n",
        "# 6. Modèle Random Forest\n",
        "model = RandomForestClassifier(n_estimators=100, random_state=42)\n",
        "model.fit(X_train, y_train)\n",
        "\n",
        "# 7. Accuracy\n",
        "y_pred = model.predict(X_test)\n",
        "accuracy = accuracy_score(y_test, y_pred)\n",
        "print(f\"✅ Accuracy Random Forest : {accuracy:.2f}\")\n",
        "\n",
        "# 8. Fonction de prédiction (Top 3 sans doublons d'entreprise)\n",
        "def top3_produits(marque, taille, categorie, prix_min, prix_max):\n",
        "    subset = df[\n",
        "        (df['Marque'] == marque) &\n",
        "        (df['Taille'] == taille) &\n",
        "        (df['Categorie'] == categorie) &\n",
        "        (df['Prix'] >= prix_min) &\n",
        "        (df['Prix'] <= prix_max)\n",
        "    ]\n",
        "\n",
        "    if subset.empty:\n",
        "        return [\"❌ Aucun produit trouvé avec ces critères.\"]\n",
        "\n",
        "    subset = subset.copy()\n",
        "    subset['Marque_enc'] = le_marque.transform(subset['Marque'])\n",
        "    subset['Taille_enc'] = le_taille.transform(subset['Taille'])\n",
        "    X_subset = subset[['Marque_enc', 'Taille_enc', 'Prix', 'Categorie']]\n",
        "\n",
        "    # Prédictions\n",
        "    preds = model.predict(X_subset)\n",
        "    subset['Prediction'] = preds\n",
        "    subset['Nom'] = le_nom.inverse_transform(subset['Prediction'])\n",
        "\n",
        "    # Garder la version la moins chère de chaque entreprise\n",
        "    subset_unique = (\n",
        "        subset.sort_values(by='Prix')\n",
        "        .drop_duplicates(subset=['Entreprise'])\n",
        "    )\n",
        "\n",
        "    # Garder les 3 options les moins chères\n",
        "    final_rows = subset_unique.sort_values(by='Prix').head(3)\n",
        "\n",
        "    # Formatage des résultats\n",
        "    resultats = [\n",
        "        f\"{row['Nom']} 🏢 {row['Entreprise']} 💰 {row['Prix']:.2f} DT\"\n",
        "        for _, row in final_rows.iterrows()\n",
        "    ]\n",
        "    return resultats\n",
        "\n",
        "# 9. Exemple d’utilisation\n",
        "resultats = top3_produits(\n",
        "    marque=\"BOUCHERIE\",\n",
        "    taille=\"Barquette 250g\",\n",
        "    categorie=3,\n",
        "    prix_min=5.0,\n",
        "    prix_max=9.0\n",
        ")\n",
        "\n",
        "print(\"🔮 Top 3 suggestions :\")\n",
        "for res in resultats:\n",
        "    print(\"🔹\", res)\n"
      ],
      "metadata": {
        "colab": {
          "base_uri": "https://localhost:8080/"
        },
        "id": "WDJMCp75zoNk",
        "outputId": "092ad105-8d4c-4bea-d1d8-0819f565119a"
      },
      "execution_count": 1,
      "outputs": [
        {
          "output_type": "stream",
          "name": "stdout",
          "text": [
            "✅ Accuracy Random Forest : 0.79\n",
            "🔮 Top 3 suggestions :\n",
            "🔹 Viande hachée 5% 🏢 Géant 💰 5.80 DT\n",
            "🔹 Viande hachée 5% 🏢 Carrefour 💰 6.80 DT\n",
            "🔹 Viande hachée 5% 🏢 MG 💰 6.95 DT\n"
          ]
        }
      ]
    },
    {
      "cell_type": "code",
      "source": [
        "# 9. Exemple d’utilisation\n",
        "resultats = top3_produits(\n",
        "    marque=\"BOUCHERIE\",\n",
        "    taille=\"Barquette 250g\",\n",
        "    categorie=3,\n",
        "    prix_min=1.0,\n",
        "    prix_max=1.5\n",
        ")\n",
        "\n",
        "print(\"🔮 Top 3 suggestions :\")\n",
        "for res in resultats:\n",
        "    print(\"🔹\", res)\n"
      ],
      "metadata": {
        "id": "KqULHd_OwoyW",
        "colab": {
          "base_uri": "https://localhost:8080/"
        },
        "outputId": "73a02835-a865-4037-c6aa-8e4433f1f068"
      },
      "execution_count": 2,
      "outputs": [
        {
          "output_type": "stream",
          "name": "stdout",
          "text": [
            "🔮 Top 3 suggestions :\n",
            "🔹 ❌ Aucun produit trouvé avec ces critères.\n"
          ]
        }
      ]
    },
    {
      "cell_type": "code",
      "source": [
        "# 1. Importer les bibliothèques\n",
        "import pandas as pd\n",
        "from sklearn.model_selection import train_test_split\n",
        "from sklearn.preprocessing import LabelEncoder\n",
        "from sklearn.metrics import accuracy_score\n",
        "from sklearn.ensemble import RandomForestClassifier\n",
        "import numpy as np\n",
        "\n",
        "# 2. Charger le fichier\n",
        "df = pd.read_csv('/content/source.csv')\n",
        "\n",
        "# 3. Encodage des colonnes\n",
        "le_marque = LabelEncoder()\n",
        "le_taille = LabelEncoder()\n",
        "le_nom = LabelEncoder()\n",
        "\n",
        "df['Marque_enc'] = le_marque.fit_transform(df['Marque'])\n",
        "df['Taille_enc'] = le_taille.fit_transform(df['Taille'])\n",
        "df['Nom_enc'] = le_nom.fit_transform(df['Nom'])\n",
        "\n",
        "# 4. Features et Target\n",
        "X = df[['Marque_enc', 'Taille_enc', 'Prix', 'Categorie']]\n",
        "y = df['Nom_enc']\n",
        "\n",
        "# 5. Split\n",
        "X_train, X_test, y_train, y_test = train_test_split(\n",
        "    X, y, test_size=0.2, random_state=42)\n",
        "\n",
        "# 6. Modèle Random Forest\n",
        "model = RandomForestClassifier(n_estimators=100, random_state=42)\n",
        "model.fit(X_train, y_train)\n",
        "\n",
        "# 7. Accuracy\n",
        "y_pred = model.predict(X_test)\n",
        "accuracy = accuracy_score(y_test, y_pred)\n",
        "print(f\"✅ Accuracy Random Forest : {accuracy:.2f}\")\n",
        "\n",
        "# 8. Fonction intelligente de recommandation\n",
        "def top3_produits(marque=None, taille=None, categorie=None, prix_min=None, prix_max=None):\n",
        "    if categorie is None:\n",
        "        return [\"❌ La catégorie est obligatoire.\"]\n",
        "\n",
        "    # Filtrer uniquement la catégorie\n",
        "    subset = df[df['Categorie'] == categorie].copy()\n",
        "    if subset.empty:\n",
        "        return [\"❌ Aucun produit trouvé dans cette catégorie.\"]\n",
        "\n",
        "    # Matching des critères\n",
        "    subset['marque_match'] = (subset['Marque'] == marque) if marque else False\n",
        "    subset['taille_match'] = (subset['Taille'] == taille) if taille else False\n",
        "    subset['prix_match'] = (\n",
        "        subset['Prix'].between(prix_min, prix_max)\n",
        "        if prix_min is not None and prix_max is not None else False\n",
        "    )\n",
        "\n",
        "    # Score total\n",
        "    subset['score'] = (\n",
        "        subset['marque_match'].astype(int) +\n",
        "        subset['taille_match'].astype(int) +\n",
        "        subset['prix_match'].astype(int)\n",
        "    )\n",
        "\n",
        "    if subset['score'].max() == 0:\n",
        "        return [\"❌ Aucun produit proche trouvé. Essayez avec d'autres critères.\"]\n",
        "\n",
        "    # Trier par score et prix\n",
        "    subset = subset.sort_values(by=['score', 'Prix'], ascending=[False, True])\n",
        "    subset = subset.drop_duplicates(subset=['Entreprise'])\n",
        "\n",
        "    # Top 3\n",
        "    top3 = subset.head(3)\n",
        "\n",
        "    # Préparation des prédictions\n",
        "    top3['Marque_enc'] = le_marque.transform(top3['Marque'])\n",
        "    top3['Taille_enc'] = le_taille.transform(top3['Taille'])\n",
        "    X_top3 = top3[['Marque_enc', 'Taille_enc', 'Prix', 'Categorie']]\n",
        "    top3['Prediction'] = model.predict(X_top3)\n",
        "    top3['Nom'] = le_nom.inverse_transform(top3['Prediction'])\n",
        "\n",
        "    # Résultats\n",
        "    resultats = [\n",
        "        f\"{row['Nom']} 🏢 {row['Entreprise']} 💰 {row['Prix']:.2f} DT\"\n",
        "        for _, row in top3.iterrows()\n",
        "    ]\n",
        "\n",
        "    return resultats\n",
        "\n",
        "# 9. Exemple d’utilisation\n",
        "resultats = top3_produits(\n",
        "    marque=\"BOUCHERIE\",\n",
        "    taille=None,\n",
        "    categorie=3,\n",
        "    prix_min=5.0,\n",
        "    prix_max=9.0\n",
        ")\n",
        "\n",
        "print(\"🔮 Top 3 suggestions :\")\n",
        "for res in resultats:\n",
        "    print(\"🔹\", res)\n"
      ],
      "metadata": {
        "colab": {
          "base_uri": "https://localhost:8080/"
        },
        "id": "caoPm7jwNTpo",
        "outputId": "ee7318eb-7671-4e25-f461-7a4355314185"
      },
      "execution_count": 1,
      "outputs": [
        {
          "output_type": "stream",
          "name": "stdout",
          "text": [
            "✅ Accuracy Random Forest : 0.79\n",
            "🔮 Top 3 suggestions :\n",
            "🔹 Viande hachée 5% 🏢 Géant 💰 5.80 DT\n",
            "🔹 Viande hachée 5% 🏢 Carrefour 💰 6.80 DT\n",
            "🔹 Viande hachée 5% 🏢 MG 💰 6.95 DT\n"
          ]
        }
      ]
    },
    {
      "cell_type": "code",
      "source": [],
      "metadata": {
        "id": "dFbn7_nOUxpf"
      },
      "execution_count": null,
      "outputs": []
    }
  ]
}