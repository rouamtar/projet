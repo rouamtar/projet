{
  "nbformat": 4,
  "nbformat_minor": 0,
  "metadata": {
    "colab": {
      "provenance": []
    },
    "kernelspec": {
      "name": "python3",
      "display_name": "Python 3"
    },
    "language_info": {
      "name": "python"
    }
  },
  "cells": [
    {
      "cell_type": "markdown",
      "source": [
        "\n",
        "\n",
        "**\n",
        "Un objectif supervisé de régression:prédire les baisses de prix (avec  RandomForestRegressor)**\n",
        "\n",
        "\n",
        "\n"
      ],
      "metadata": {
        "id": "DeBKKFfClsZo"
      }
    },
    {
      "cell_type": "code",
      "execution_count": 1,
      "metadata": {
        "colab": {
          "base_uri": "https://localhost:8080/",
          "height": 260
        },
        "id": "-gOULfZWpld4",
        "outputId": "1c8fc865-b113-478e-89fb-701b2ee2f2ab"
      },
      "outputs": [
        {
          "output_type": "stream",
          "name": "stderr",
          "text": [
            "/usr/local/lib/python3.11/dist-packages/openpyxl/worksheet/header_footer.py:48: UserWarning: Cannot parse header or footer so it will be ignored\n",
            "  warn(\"\"\"Cannot parse header or footer so it will be ignored\"\"\")\n"
          ]
        },
        {
          "output_type": "execute_result",
          "data": {
            "text/plain": [
              "                                        Produit   Marque  Prix  \\\n",
              "0                               Boisson gazeuse     VIVA  2.10   \n",
              "1                               Boisson gazeuse  TROPICO  2.10   \n",
              "2                               Boisson gazeuse    RAOUA  2.10   \n",
              "3  Boisson gazeuse existe en plusieurs saveurs      VIVA  1.15   \n",
              "4                              Boisson gazeuse     RAOUA  1.15   \n",
              "\n",
              "   Prix_avant_remise Taille Pourcentage magasin Code_Produit  id_entreprise  \\\n",
              "0               2.49     1L        -16%      MG       M-1501              3   \n",
              "1               2.49     1L        -16%      MG       M-1502              3   \n",
              "2               2.49     1L        -16%      MG       M-1503              3   \n",
              "3               1.33  24 cl        -14%      MG       M-1504              3   \n",
              "4               1.33  24 cl        -14%      MG       M-1505              3   \n",
              "\n",
              "  Date_D_Achat  Quantite_Achetee  \n",
              "0   30/09/2023                 3  \n",
              "1   22/01/2023                 4  \n",
              "2   01/03/2024                 4  \n",
              "3   23/01/2023                 2  \n",
              "4   31/05/2024                 3  "
            ],
            "text/html": [
              "\n",
              "  <div id=\"df-9e8ca32e-ebc6-4171-941a-e2ab8260c162\" class=\"colab-df-container\">\n",
              "    <div>\n",
              "<style scoped>\n",
              "    .dataframe tbody tr th:only-of-type {\n",
              "        vertical-align: middle;\n",
              "    }\n",
              "\n",
              "    .dataframe tbody tr th {\n",
              "        vertical-align: top;\n",
              "    }\n",
              "\n",
              "    .dataframe thead th {\n",
              "        text-align: right;\n",
              "    }\n",
              "</style>\n",
              "<table border=\"1\" class=\"dataframe\">\n",
              "  <thead>\n",
              "    <tr style=\"text-align: right;\">\n",
              "      <th></th>\n",
              "      <th>Produit</th>\n",
              "      <th>Marque</th>\n",
              "      <th>Prix</th>\n",
              "      <th>Prix_avant_remise</th>\n",
              "      <th>Taille</th>\n",
              "      <th>Pourcentage</th>\n",
              "      <th>magasin</th>\n",
              "      <th>Code_Produit</th>\n",
              "      <th>id_entreprise</th>\n",
              "      <th>Date_D_Achat</th>\n",
              "      <th>Quantite_Achetee</th>\n",
              "    </tr>\n",
              "  </thead>\n",
              "  <tbody>\n",
              "    <tr>\n",
              "      <th>0</th>\n",
              "      <td>Boisson gazeuse</td>\n",
              "      <td>VIVA</td>\n",
              "      <td>2.10</td>\n",
              "      <td>2.49</td>\n",
              "      <td>1L</td>\n",
              "      <td>-16%</td>\n",
              "      <td>MG</td>\n",
              "      <td>M-1501</td>\n",
              "      <td>3</td>\n",
              "      <td>30/09/2023</td>\n",
              "      <td>3</td>\n",
              "    </tr>\n",
              "    <tr>\n",
              "      <th>1</th>\n",
              "      <td>Boisson gazeuse</td>\n",
              "      <td>TROPICO</td>\n",
              "      <td>2.10</td>\n",
              "      <td>2.49</td>\n",
              "      <td>1L</td>\n",
              "      <td>-16%</td>\n",
              "      <td>MG</td>\n",
              "      <td>M-1502</td>\n",
              "      <td>3</td>\n",
              "      <td>22/01/2023</td>\n",
              "      <td>4</td>\n",
              "    </tr>\n",
              "    <tr>\n",
              "      <th>2</th>\n",
              "      <td>Boisson gazeuse</td>\n",
              "      <td>RAOUA</td>\n",
              "      <td>2.10</td>\n",
              "      <td>2.49</td>\n",
              "      <td>1L</td>\n",
              "      <td>-16%</td>\n",
              "      <td>MG</td>\n",
              "      <td>M-1503</td>\n",
              "      <td>3</td>\n",
              "      <td>01/03/2024</td>\n",
              "      <td>4</td>\n",
              "    </tr>\n",
              "    <tr>\n",
              "      <th>3</th>\n",
              "      <td>Boisson gazeuse existe en plusieurs saveurs</td>\n",
              "      <td>VIVA</td>\n",
              "      <td>1.15</td>\n",
              "      <td>1.33</td>\n",
              "      <td>24 cl</td>\n",
              "      <td>-14%</td>\n",
              "      <td>MG</td>\n",
              "      <td>M-1504</td>\n",
              "      <td>3</td>\n",
              "      <td>23/01/2023</td>\n",
              "      <td>2</td>\n",
              "    </tr>\n",
              "    <tr>\n",
              "      <th>4</th>\n",
              "      <td>Boisson gazeuse</td>\n",
              "      <td>RAOUA</td>\n",
              "      <td>1.15</td>\n",
              "      <td>1.33</td>\n",
              "      <td>24 cl</td>\n",
              "      <td>-14%</td>\n",
              "      <td>MG</td>\n",
              "      <td>M-1505</td>\n",
              "      <td>3</td>\n",
              "      <td>31/05/2024</td>\n",
              "      <td>3</td>\n",
              "    </tr>\n",
              "  </tbody>\n",
              "</table>\n",
              "</div>\n",
              "    <div class=\"colab-df-buttons\">\n",
              "\n",
              "  <div class=\"colab-df-container\">\n",
              "    <button class=\"colab-df-convert\" onclick=\"convertToInteractive('df-9e8ca32e-ebc6-4171-941a-e2ab8260c162')\"\n",
              "            title=\"Convert this dataframe to an interactive table.\"\n",
              "            style=\"display:none;\">\n",
              "\n",
              "  <svg xmlns=\"http://www.w3.org/2000/svg\" height=\"24px\" viewBox=\"0 -960 960 960\">\n",
              "    <path d=\"M120-120v-720h720v720H120Zm60-500h600v-160H180v160Zm220 220h160v-160H400v160Zm0 220h160v-160H400v160ZM180-400h160v-160H180v160Zm440 0h160v-160H620v160ZM180-180h160v-160H180v160Zm440 0h160v-160H620v160Z\"/>\n",
              "  </svg>\n",
              "    </button>\n",
              "\n",
              "  <style>\n",
              "    .colab-df-container {\n",
              "      display:flex;\n",
              "      gap: 12px;\n",
              "    }\n",
              "\n",
              "    .colab-df-convert {\n",
              "      background-color: #E8F0FE;\n",
              "      border: none;\n",
              "      border-radius: 50%;\n",
              "      cursor: pointer;\n",
              "      display: none;\n",
              "      fill: #1967D2;\n",
              "      height: 32px;\n",
              "      padding: 0 0 0 0;\n",
              "      width: 32px;\n",
              "    }\n",
              "\n",
              "    .colab-df-convert:hover {\n",
              "      background-color: #E2EBFA;\n",
              "      box-shadow: 0px 1px 2px rgba(60, 64, 67, 0.3), 0px 1px 3px 1px rgba(60, 64, 67, 0.15);\n",
              "      fill: #174EA6;\n",
              "    }\n",
              "\n",
              "    .colab-df-buttons div {\n",
              "      margin-bottom: 4px;\n",
              "    }\n",
              "\n",
              "    [theme=dark] .colab-df-convert {\n",
              "      background-color: #3B4455;\n",
              "      fill: #D2E3FC;\n",
              "    }\n",
              "\n",
              "    [theme=dark] .colab-df-convert:hover {\n",
              "      background-color: #434B5C;\n",
              "      box-shadow: 0px 1px 3px 1px rgba(0, 0, 0, 0.15);\n",
              "      filter: drop-shadow(0px 1px 2px rgba(0, 0, 0, 0.3));\n",
              "      fill: #FFFFFF;\n",
              "    }\n",
              "  </style>\n",
              "\n",
              "    <script>\n",
              "      const buttonEl =\n",
              "        document.querySelector('#df-9e8ca32e-ebc6-4171-941a-e2ab8260c162 button.colab-df-convert');\n",
              "      buttonEl.style.display =\n",
              "        google.colab.kernel.accessAllowed ? 'block' : 'none';\n",
              "\n",
              "      async function convertToInteractive(key) {\n",
              "        const element = document.querySelector('#df-9e8ca32e-ebc6-4171-941a-e2ab8260c162');\n",
              "        const dataTable =\n",
              "          await google.colab.kernel.invokeFunction('convertToInteractive',\n",
              "                                                    [key], {});\n",
              "        if (!dataTable) return;\n",
              "\n",
              "        const docLinkHtml = 'Like what you see? Visit the ' +\n",
              "          '<a target=\"_blank\" href=https://colab.research.google.com/notebooks/data_table.ipynb>data table notebook</a>'\n",
              "          + ' to learn more about interactive tables.';\n",
              "        element.innerHTML = '';\n",
              "        dataTable['output_type'] = 'display_data';\n",
              "        await google.colab.output.renderOutput(dataTable, element);\n",
              "        const docLink = document.createElement('div');\n",
              "        docLink.innerHTML = docLinkHtml;\n",
              "        element.appendChild(docLink);\n",
              "      }\n",
              "    </script>\n",
              "  </div>\n",
              "\n",
              "\n",
              "<div id=\"df-f2036430-e564-43c2-9caa-ca2ce09765b1\">\n",
              "  <button class=\"colab-df-quickchart\" onclick=\"quickchart('df-f2036430-e564-43c2-9caa-ca2ce09765b1')\"\n",
              "            title=\"Suggest charts\"\n",
              "            style=\"display:none;\">\n",
              "\n",
              "<svg xmlns=\"http://www.w3.org/2000/svg\" height=\"24px\"viewBox=\"0 0 24 24\"\n",
              "     width=\"24px\">\n",
              "    <g>\n",
              "        <path d=\"M19 3H5c-1.1 0-2 .9-2 2v14c0 1.1.9 2 2 2h14c1.1 0 2-.9 2-2V5c0-1.1-.9-2-2-2zM9 17H7v-7h2v7zm4 0h-2V7h2v10zm4 0h-2v-4h2v4z\"/>\n",
              "    </g>\n",
              "</svg>\n",
              "  </button>\n",
              "\n",
              "<style>\n",
              "  .colab-df-quickchart {\n",
              "      --bg-color: #E8F0FE;\n",
              "      --fill-color: #1967D2;\n",
              "      --hover-bg-color: #E2EBFA;\n",
              "      --hover-fill-color: #174EA6;\n",
              "      --disabled-fill-color: #AAA;\n",
              "      --disabled-bg-color: #DDD;\n",
              "  }\n",
              "\n",
              "  [theme=dark] .colab-df-quickchart {\n",
              "      --bg-color: #3B4455;\n",
              "      --fill-color: #D2E3FC;\n",
              "      --hover-bg-color: #434B5C;\n",
              "      --hover-fill-color: #FFFFFF;\n",
              "      --disabled-bg-color: #3B4455;\n",
              "      --disabled-fill-color: #666;\n",
              "  }\n",
              "\n",
              "  .colab-df-quickchart {\n",
              "    background-color: var(--bg-color);\n",
              "    border: none;\n",
              "    border-radius: 50%;\n",
              "    cursor: pointer;\n",
              "    display: none;\n",
              "    fill: var(--fill-color);\n",
              "    height: 32px;\n",
              "    padding: 0;\n",
              "    width: 32px;\n",
              "  }\n",
              "\n",
              "  .colab-df-quickchart:hover {\n",
              "    background-color: var(--hover-bg-color);\n",
              "    box-shadow: 0 1px 2px rgba(60, 64, 67, 0.3), 0 1px 3px 1px rgba(60, 64, 67, 0.15);\n",
              "    fill: var(--button-hover-fill-color);\n",
              "  }\n",
              "\n",
              "  .colab-df-quickchart-complete:disabled,\n",
              "  .colab-df-quickchart-complete:disabled:hover {\n",
              "    background-color: var(--disabled-bg-color);\n",
              "    fill: var(--disabled-fill-color);\n",
              "    box-shadow: none;\n",
              "  }\n",
              "\n",
              "  .colab-df-spinner {\n",
              "    border: 2px solid var(--fill-color);\n",
              "    border-color: transparent;\n",
              "    border-bottom-color: var(--fill-color);\n",
              "    animation:\n",
              "      spin 1s steps(1) infinite;\n",
              "  }\n",
              "\n",
              "  @keyframes spin {\n",
              "    0% {\n",
              "      border-color: transparent;\n",
              "      border-bottom-color: var(--fill-color);\n",
              "      border-left-color: var(--fill-color);\n",
              "    }\n",
              "    20% {\n",
              "      border-color: transparent;\n",
              "      border-left-color: var(--fill-color);\n",
              "      border-top-color: var(--fill-color);\n",
              "    }\n",
              "    30% {\n",
              "      border-color: transparent;\n",
              "      border-left-color: var(--fill-color);\n",
              "      border-top-color: var(--fill-color);\n",
              "      border-right-color: var(--fill-color);\n",
              "    }\n",
              "    40% {\n",
              "      border-color: transparent;\n",
              "      border-right-color: var(--fill-color);\n",
              "      border-top-color: var(--fill-color);\n",
              "    }\n",
              "    60% {\n",
              "      border-color: transparent;\n",
              "      border-right-color: var(--fill-color);\n",
              "    }\n",
              "    80% {\n",
              "      border-color: transparent;\n",
              "      border-right-color: var(--fill-color);\n",
              "      border-bottom-color: var(--fill-color);\n",
              "    }\n",
              "    90% {\n",
              "      border-color: transparent;\n",
              "      border-bottom-color: var(--fill-color);\n",
              "    }\n",
              "  }\n",
              "</style>\n",
              "\n",
              "  <script>\n",
              "    async function quickchart(key) {\n",
              "      const quickchartButtonEl =\n",
              "        document.querySelector('#' + key + ' button');\n",
              "      quickchartButtonEl.disabled = true;  // To prevent multiple clicks.\n",
              "      quickchartButtonEl.classList.add('colab-df-spinner');\n",
              "      try {\n",
              "        const charts = await google.colab.kernel.invokeFunction(\n",
              "            'suggestCharts', [key], {});\n",
              "      } catch (error) {\n",
              "        console.error('Error during call to suggestCharts:', error);\n",
              "      }\n",
              "      quickchartButtonEl.classList.remove('colab-df-spinner');\n",
              "      quickchartButtonEl.classList.add('colab-df-quickchart-complete');\n",
              "    }\n",
              "    (() => {\n",
              "      let quickchartButtonEl =\n",
              "        document.querySelector('#df-f2036430-e564-43c2-9caa-ca2ce09765b1 button');\n",
              "      quickchartButtonEl.style.display =\n",
              "        google.colab.kernel.accessAllowed ? 'block' : 'none';\n",
              "    })();\n",
              "  </script>\n",
              "</div>\n",
              "\n",
              "    </div>\n",
              "  </div>\n"
            ],
            "application/vnd.google.colaboratory.intrinsic+json": {
              "type": "dataframe",
              "variable_name": "df",
              "summary": "{\n  \"name\": \"df\",\n  \"rows\": 172,\n  \"fields\": [\n    {\n      \"column\": \"Produit\",\n      \"properties\": {\n        \"dtype\": \"string\",\n        \"num_unique_values\": 140,\n        \"samples\": [\n          \"Assouplissant\",\n          \"Barre chocolat\\u00e9e\",\n          \"Fromage fondu\"\n        ],\n        \"semantic_type\": \"\",\n        \"description\": \"\"\n      }\n    },\n    {\n      \"column\": \"Marque\",\n      \"properties\": {\n        \"dtype\": \"string\",\n        \"num_unique_values\": 108,\n        \"samples\": [\n          \"2,5 L\",\n          \"MAHJOUB\",\n          \"DIVA\"\n        ],\n        \"semantic_type\": \"\",\n        \"description\": \"\"\n      }\n    },\n    {\n      \"column\": \"Prix\",\n      \"properties\": {\n        \"dtype\": \"number\",\n        \"std\": 5.733859863679971,\n        \"min\": 0.38,\n        \"max\": 29.99,\n        \"num_unique_values\": 126,\n        \"samples\": [\n          2.49,\n          4.6,\n          5.45\n        ],\n        \"semantic_type\": \"\",\n        \"description\": \"\"\n      }\n    },\n    {\n      \"column\": \"Prix_avant_remise\",\n      \"properties\": {\n        \"dtype\": \"number\",\n        \"std\": 7.606671580299081,\n        \"min\": 0.43,\n        \"max\": 41.99,\n        \"num_unique_values\": 132,\n        \"samples\": [\n          5.67,\n          26.8,\n          3.55\n        ],\n        \"semantic_type\": \"\",\n        \"description\": \"\"\n      }\n    },\n    {\n      \"column\": \"Taille\",\n      \"properties\": {\n        \"dtype\": \"category\",\n        \"num_unique_values\": 67,\n        \"samples\": [\n          \"130 gr\",\n          \"400 gr\",\n          \"18 cl\"\n        ],\n        \"semantic_type\": \"\",\n        \"description\": \"\"\n      }\n    },\n    {\n      \"column\": \"Pourcentage\",\n      \"properties\": {\n        \"dtype\": \"category\",\n        \"num_unique_values\": 29,\n        \"samples\": [\n          \"-34%\",\n          \"-22%\",\n          \"-33%\"\n        ],\n        \"semantic_type\": \"\",\n        \"description\": \"\"\n      }\n    },\n    {\n      \"column\": \"magasin\",\n      \"properties\": {\n        \"dtype\": \"category\",\n        \"num_unique_values\": 1,\n        \"samples\": [\n          \"MG\"\n        ],\n        \"semantic_type\": \"\",\n        \"description\": \"\"\n      }\n    },\n    {\n      \"column\": \"Code_Produit\",\n      \"properties\": {\n        \"dtype\": \"string\",\n        \"num_unique_values\": 172,\n        \"samples\": [\n          \"M-1577\"\n        ],\n        \"semantic_type\": \"\",\n        \"description\": \"\"\n      }\n    },\n    {\n      \"column\": \"id_entreprise\",\n      \"properties\": {\n        \"dtype\": \"number\",\n        \"std\": 0,\n        \"min\": 3,\n        \"max\": 3,\n        \"num_unique_values\": 1,\n        \"samples\": [\n          3\n        ],\n        \"semantic_type\": \"\",\n        \"description\": \"\"\n      }\n    },\n    {\n      \"column\": \"Date_D_Achat\",\n      \"properties\": {\n        \"dtype\": \"object\",\n        \"num_unique_values\": 119,\n        \"samples\": [\n          \"26/09/2024\"\n        ],\n        \"semantic_type\": \"\",\n        \"description\": \"\"\n      }\n    },\n    {\n      \"column\": \"Quantite_Achetee\",\n      \"properties\": {\n        \"dtype\": \"number\",\n        \"std\": 1,\n        \"min\": 1,\n        \"max\": 4,\n        \"num_unique_values\": 4,\n        \"samples\": [\n          4\n        ],\n        \"semantic_type\": \"\",\n        \"description\": \"\"\n      }\n    }\n  ]\n}"
            }
          },
          "metadata": {},
          "execution_count": 1
        }
      ],
      "source": [
        "import pandas as pd\n",
        "import matplotlib.pyplot as plt\n",
        "\n",
        "# Lire le fichier depuis l'environnement Colab\n",
        "df = pd.read_excel(\"entreprise.xlsx\")\n",
        "\n",
        "# Afficher un aperçu des données\n",
        "df.head()\n",
        "\n"
      ]
    },
    {
      "cell_type": "code",
      "source": [
        "# Afficher les noms des colonnes du DataFrame\n",
        "print(df.columns)\n"
      ],
      "metadata": {
        "colab": {
          "base_uri": "https://localhost:8080/"
        },
        "id": "mViDSOBb8aSh",
        "outputId": "9800282b-3027-4c5b-8e1d-64892bc3bb97"
      },
      "execution_count": 2,
      "outputs": [
        {
          "output_type": "stream",
          "name": "stdout",
          "text": [
            "Index(['Produit', 'Marque', 'Prix', 'Prix_avant_remise', 'Taille',\n",
            "       'Pourcentage', 'magasin', 'Code_Produit', 'id_entreprise',\n",
            "       'Date_D_Achat', 'Quantite_Achetee'],\n",
            "      dtype='object')\n"
          ]
        }
      ]
    },
    {
      "cell_type": "code",
      "source": [
        "print(df[[\"Date_D_Achat\", \"Prix\", \"Prix_avant_remise\"]].head())\n",
        "print(df.dtypes)\n"
      ],
      "metadata": {
        "colab": {
          "base_uri": "https://localhost:8080/"
        },
        "id": "dqkBJAcGtkbe",
        "outputId": "9e37d19e-4619-41d7-ba35-50bb46262f37"
      },
      "execution_count": 3,
      "outputs": [
        {
          "output_type": "stream",
          "name": "stdout",
          "text": [
            "  Date_D_Achat  Prix  Prix_avant_remise\n",
            "0   30/09/2023  2.10               2.49\n",
            "1   22/01/2023  2.10               2.49\n",
            "2   01/03/2024  2.10               2.49\n",
            "3   23/01/2023  1.15               1.33\n",
            "4   31/05/2024  1.15               1.33\n",
            "Produit               object\n",
            "Marque                object\n",
            "Prix                 float64\n",
            "Prix_avant_remise    float64\n",
            "Taille                object\n",
            "Pourcentage           object\n",
            "magasin               object\n",
            "Code_Produit          object\n",
            "id_entreprise          int64\n",
            "Date_D_Achat          object\n",
            "Quantite_Achetee       int64\n",
            "dtype: object\n"
          ]
        }
      ]
    },
    {
      "cell_type": "code",
      "source": [
        "df[\"Date_D_Achat\"] = pd.to_datetime(df[\"Date_D_Achat\"], errors='coerce')\n",
        "df[\"Date_D_Achat\"]"
      ],
      "metadata": {
        "colab": {
          "base_uri": "https://localhost:8080/",
          "height": 515
        },
        "id": "4owyeEW3ttAO",
        "outputId": "9e8087dc-0bc4-4a7c-d0d8-13b22dafc28d"
      },
      "execution_count": 4,
      "outputs": [
        {
          "output_type": "stream",
          "name": "stderr",
          "text": [
            "<ipython-input-4-c563ae313c96>:1: UserWarning: Parsing dates in %d/%m/%Y format when dayfirst=False (the default) was specified. Pass `dayfirst=True` or specify a format to silence this warning.\n",
            "  df[\"Date_D_Achat\"] = pd.to_datetime(df[\"Date_D_Achat\"], errors='coerce')\n"
          ]
        },
        {
          "output_type": "execute_result",
          "data": {
            "text/plain": [
              "0     2023-09-30\n",
              "1     2023-01-22\n",
              "2     2024-03-01\n",
              "3     2023-01-23\n",
              "4     2024-05-31\n",
              "         ...    \n",
              "167   2023-04-25\n",
              "168   2023-04-25\n",
              "169   2024-09-17\n",
              "170   2023-11-03\n",
              "171   2023-12-28\n",
              "Name: Date_D_Achat, Length: 172, dtype: datetime64[ns]"
            ],
            "text/html": [
              "<div>\n",
              "<style scoped>\n",
              "    .dataframe tbody tr th:only-of-type {\n",
              "        vertical-align: middle;\n",
              "    }\n",
              "\n",
              "    .dataframe tbody tr th {\n",
              "        vertical-align: top;\n",
              "    }\n",
              "\n",
              "    .dataframe thead th {\n",
              "        text-align: right;\n",
              "    }\n",
              "</style>\n",
              "<table border=\"1\" class=\"dataframe\">\n",
              "  <thead>\n",
              "    <tr style=\"text-align: right;\">\n",
              "      <th></th>\n",
              "      <th>Date_D_Achat</th>\n",
              "    </tr>\n",
              "  </thead>\n",
              "  <tbody>\n",
              "    <tr>\n",
              "      <th>0</th>\n",
              "      <td>2023-09-30</td>\n",
              "    </tr>\n",
              "    <tr>\n",
              "      <th>1</th>\n",
              "      <td>2023-01-22</td>\n",
              "    </tr>\n",
              "    <tr>\n",
              "      <th>2</th>\n",
              "      <td>2024-03-01</td>\n",
              "    </tr>\n",
              "    <tr>\n",
              "      <th>3</th>\n",
              "      <td>2023-01-23</td>\n",
              "    </tr>\n",
              "    <tr>\n",
              "      <th>4</th>\n",
              "      <td>2024-05-31</td>\n",
              "    </tr>\n",
              "    <tr>\n",
              "      <th>...</th>\n",
              "      <td>...</td>\n",
              "    </tr>\n",
              "    <tr>\n",
              "      <th>167</th>\n",
              "      <td>2023-04-25</td>\n",
              "    </tr>\n",
              "    <tr>\n",
              "      <th>168</th>\n",
              "      <td>2023-04-25</td>\n",
              "    </tr>\n",
              "    <tr>\n",
              "      <th>169</th>\n",
              "      <td>2024-09-17</td>\n",
              "    </tr>\n",
              "    <tr>\n",
              "      <th>170</th>\n",
              "      <td>2023-11-03</td>\n",
              "    </tr>\n",
              "    <tr>\n",
              "      <th>171</th>\n",
              "      <td>2023-12-28</td>\n",
              "    </tr>\n",
              "  </tbody>\n",
              "</table>\n",
              "<p>172 rows × 1 columns</p>\n",
              "</div><br><label><b>dtype:</b> datetime64[ns]</label>"
            ]
          },
          "metadata": {},
          "execution_count": 4
        }
      ]
    },
    {
      "cell_type": "code",
      "source": [
        "print(df[[\"Date_D_Achat\", \"Prix\", \"Prix_avant_remise\"]].isnull().sum())\n",
        "print(df[[\"Prix\", \"Prix_avant_remise\"]].describe())\n"
      ],
      "metadata": {
        "colab": {
          "base_uri": "https://localhost:8080/"
        },
        "id": "9FoMXDAGt3zh",
        "outputId": "56d2d5b0-5da5-400d-8593-15f6732ca123"
      },
      "execution_count": 5,
      "outputs": [
        {
          "output_type": "stream",
          "name": "stdout",
          "text": [
            "Date_D_Achat          0\n",
            "Prix                  3\n",
            "Prix_avant_remise    19\n",
            "dtype: int64\n",
            "             Prix  Prix_avant_remise\n",
            "count  169.000000         153.000000\n",
            "mean     5.934852           7.287124\n",
            "std      5.733860           7.606672\n",
            "min      0.380000           0.430000\n",
            "25%      2.290000           2.750000\n",
            "50%      3.990000           5.190000\n",
            "75%      6.490000           8.100000\n",
            "max     29.990000          41.990000\n"
          ]
        }
      ]
    },
    {
      "cell_type": "code",
      "source": [
        "df[\"Prix\"] = df[\"Prix\"].fillna(df[\"Prix\"].mean())\n",
        "df[\"Prix_avant_remise\"] = df[\"Prix_avant_remise\"].fillna(df[\"Prix_avant_remise\"].mean())\n"
      ],
      "metadata": {
        "id": "G1glTddDuAa8"
      },
      "execution_count": 6,
      "outputs": []
    },
    {
      "cell_type": "code",
      "source": [
        "# Imputer les valeurs manquantes sans utiliser inplace=True\n",
        "df['Quantite_Achetee'] = df['Quantite_Achetee'].fillna(df['Quantite_Achetee'].mean())\n",
        "df['Produit'] = df['Produit'].fillna(df['Produit'].mode()[0])\n",
        "df['Marque'] = df['Marque'].fillna(df['Marque'].mode()[0])\n",
        "df['Pourcentage'] = df['Pourcentage'].fillna(df['Pourcentage'].mode()[0])\n",
        "# Vérifier les NaN après traitement\n",
        "print(\"Après traitement des NaN:\")\n",
        "print(df.isna().sum())\n"
      ],
      "metadata": {
        "id": "TdmXzK2Y1LEJ",
        "outputId": "5cc565d9-fc19-4122-e928-c2c5957f9d05",
        "colab": {
          "base_uri": "https://localhost:8080/"
        }
      },
      "execution_count": 7,
      "outputs": [
        {
          "output_type": "stream",
          "name": "stdout",
          "text": [
            "Après traitement des NaN:\n",
            "Produit               0\n",
            "Marque                0\n",
            "Prix                  0\n",
            "Prix_avant_remise     0\n",
            "Taille               65\n",
            "Pourcentage           0\n",
            "magasin               0\n",
            "Code_Produit          0\n",
            "id_entreprise         0\n",
            "Date_D_Achat          0\n",
            "Quantite_Achetee      0\n",
            "dtype: int64\n"
          ]
        }
      ]
    },
    {
      "cell_type": "code",
      "source": [
        "print(df['Pourcentage'])"
      ],
      "metadata": {
        "id": "0futRtNj1317",
        "outputId": "68e8757c-97db-45d4-de1c-a4a4bcec72e5",
        "colab": {
          "base_uri": "https://localhost:8080/"
        }
      },
      "execution_count": 8,
      "outputs": [
        {
          "output_type": "stream",
          "name": "stdout",
          "text": [
            "0      -16%\n",
            "1      -16%\n",
            "2      -16%\n",
            "3      -14%\n",
            "4      -14%\n",
            "       ... \n",
            "167    -25%\n",
            "168    -25%\n",
            "169    -25%\n",
            "170    -25%\n",
            "171    -25%\n",
            "Name: Pourcentage, Length: 172, dtype: object\n"
          ]
        }
      ]
    },
    {
      "cell_type": "code",
      "source": [
        "# Imputer les NaN dans la colonne Taille (avec le mode)\n",
        "df['Taille'] = df['Taille'].fillna(df['Taille'].mode()[0])\n",
        "\n",
        "\n",
        "# Vérification après traitement\n",
        "print(\"Après traitement des NaN:\")\n",
        "print(df.isna().sum())"
      ],
      "metadata": {
        "id": "0Zbp7J-W1hjt",
        "outputId": "636a9818-7657-43fb-b645-a88e4a1cea1e",
        "colab": {
          "base_uri": "https://localhost:8080/"
        }
      },
      "execution_count": 9,
      "outputs": [
        {
          "output_type": "stream",
          "name": "stdout",
          "text": [
            "Après traitement des NaN:\n",
            "Produit              0\n",
            "Marque               0\n",
            "Prix                 0\n",
            "Prix_avant_remise    0\n",
            "Taille               0\n",
            "Pourcentage          0\n",
            "magasin              0\n",
            "Code_Produit         0\n",
            "id_entreprise        0\n",
            "Date_D_Achat         0\n",
            "Quantite_Achetee     0\n",
            "dtype: int64\n"
          ]
        }
      ]
    },
    {
      "cell_type": "code",
      "source": [
        "from sklearn.preprocessing import LabelEncoder\n",
        "import pandas as pd\n",
        "# Initialiser LabelEncoder\n",
        "label_encoder = LabelEncoder()\n",
        "\n",
        "# Appliquer Label Encoding sur la colonne 'Produit'\n",
        "df['Produit_encoded'] = label_encoder.fit_transform(df['Produit'])\n",
        "\n",
        "# Afficher le DataFrame avec l'encodage\n",
        "print(df[['Produit', 'Produit_encoded']])"
      ],
      "metadata": {
        "id": "kpEOd1aCzMKn",
        "outputId": "0b02eb26-5f39-4bb3-9e44-cd1c6ca44b3b",
        "colab": {
          "base_uri": "https://localhost:8080/"
        }
      },
      "execution_count": 10,
      "outputs": [
        {
          "output_type": "stream",
          "name": "stdout",
          "text": [
            "                                          Produit  Produit_encoded\n",
            "0                                 Boisson gazeuse                8\n",
            "1                                 Boisson gazeuse                8\n",
            "2                                 Boisson gazeuse                8\n",
            "3    Boisson gazeuse existe en plusieurs saveurs                10\n",
            "4                                Boisson gazeuse                 9\n",
            "..                                            ...              ...\n",
            "167                            GEL COIFFANT EFFET               66\n",
            "168                               SAVON DE M?NAGE              112\n",
            "169                               Savon de m?nage              116\n",
            "170                             Vinaigre a m?nage              132\n",
            "171                               Savon de m?nage              116\n",
            "\n",
            "[172 rows x 2 columns]\n"
          ]
        }
      ]
    },
    {
      "cell_type": "code",
      "source": [
        "df['Marque_encoded'] = label_encoder.fit_transform(df['Marque'])\n",
        "df['Taille_encoded'] = label_encoder.fit_transform(df['Taille'])"
      ],
      "metadata": {
        "id": "zS_0eZGY0VHv"
      },
      "execution_count": 11,
      "outputs": []
    },
    {
      "cell_type": "code",
      "source": [
        "# Convertir la colonne 'Date_D_Achat' en format datetime\n",
        "df['Date_D_Achat'] = pd.to_datetime(df['Date_D_Achat'], format='%d/%m/%Y')\n"
      ],
      "metadata": {
        "id": "USvtcRe_0bdL"
      },
      "execution_count": 12,
      "outputs": []
    },
    {
      "cell_type": "code",
      "source": [
        "# Extraire des informations de date (année, mois, jour, etc.)\n",
        "df['Annee'] = df['Date_D_Achat'].dt.year\n",
        "df['Mois'] = df['Date_D_Achat'].dt.month\n",
        "df['Jour'] = df['Date_D_Achat'].dt.day\n"
      ],
      "metadata": {
        "id": "bR1schzH0g12"
      },
      "execution_count": 13,
      "outputs": []
    },
    {
      "cell_type": "code",
      "source": [
        "# Convertir la colonne 'Pourcentage' en nombre (en enlevant le % et en divisant par 100 si nécessaire)\n",
        "df['Pourcentage'] = df['Pourcentage'].replace({r'%': ''}, regex=True).astype(float)\n",
        "\n",
        "\n",
        "\n",
        "print(df['Pourcentage'])\n"
      ],
      "metadata": {
        "id": "pNaTRdUW2qTq",
        "outputId": "0be1d452-3c18-4bba-ad3c-da4270628ffa",
        "colab": {
          "base_uri": "https://localhost:8080/"
        }
      },
      "execution_count": 17,
      "outputs": [
        {
          "output_type": "stream",
          "name": "stdout",
          "text": [
            "0     -16.0\n",
            "1     -16.0\n",
            "2     -16.0\n",
            "3     -14.0\n",
            "4     -14.0\n",
            "       ... \n",
            "167   -25.0\n",
            "168   -25.0\n",
            "169   -25.0\n",
            "170   -25.0\n",
            "171   -25.0\n",
            "Name: Pourcentage, Length: 172, dtype: float64\n"
          ]
        }
      ]
    },
    {
      "cell_type": "code",
      "source": [
        "from sklearn.model_selection import train_test_split\n",
        "from sklearn.preprocessing import StandardScaler\n",
        "\n",
        "# Sélectionner les features et la cible\n",
        "X = df[['Produit_encoded', 'Marque_encoded', 'Taille_encoded', 'Quantite_Achetee', 'Annee', 'Mois', 'Jour']]\n",
        "y = df['Pourcentage']  # Cible\n",
        "\n",
        "# Diviser en ensembles d'entraînement et de test\n",
        "X_train, X_test, y_train, y_test = train_test_split(X, y, test_size=0.2, random_state=42)\n",
        "\n",
        "# Normalisation des features\n",
        "scaler = StandardScaler()\n",
        "X_train_scaled = scaler.fit_transform(X_train)\n",
        "X_test_scaled = scaler.transform(X_test)\n",
        "\n",
        "\n"
      ],
      "metadata": {
        "id": "fqxCAaiW0jsK"
      },
      "execution_count": 22,
      "outputs": []
    },
    {
      "cell_type": "code",
      "source": [
        "from sklearn.ensemble import RandomForestRegressor\n",
        "from sklearn.metrics import mean_squared_error\n",
        "\n",
        "# Entraîner le modèle de régression\n",
        "model = RandomForestRegressor(random_state=42)\n",
        "model.fit(X_train, y_train)\n",
        "\n",
        "# Prédictions sur les données de test\n",
        "y_pred = model.predict(X_test)\n",
        "\n"
      ],
      "metadata": {
        "id": "8dXuul1t00pc"
      },
      "execution_count": 24,
      "outputs": []
    },
    {
      "cell_type": "code",
      "source": [
        "\n",
        "\n",
        "import numpy as np\n",
        "from sklearn.metrics import mean_squared_error\n",
        "\n",
        "# Calcul de la MSE (Mean Squared Error)\n",
        "mse = mean_squared_error(y_test, y_pred)\n",
        "\n",
        "# Calcul du RMSE en prenant la racine carrée de la MSE\n",
        "rmse = np.sqrt(mse)\n",
        "\n",
        "print(f\"RMSE : {rmse}\")\n",
        "\n",
        "\n"
      ],
      "metadata": {
        "id": "ZogLd8VN3jkb",
        "outputId": "16781483-1d4f-4e54-93da-3b080341df6c",
        "colab": {
          "base_uri": "https://localhost:8080/"
        }
      },
      "execution_count": 25,
      "outputs": [
        {
          "output_type": "stream",
          "name": "stdout",
          "text": [
            "RMSE : 5.62263715452354\n"
          ]
        }
      ]
    },
    {
      "cell_type": "code",
      "source": [
        "from sklearn.metrics import r2_score\n",
        "\n",
        "# Calcul du R²\n",
        "r2 = r2_score(y_test, y_pred)\n",
        "\n",
        "print(f\"R² : {r2}\")\n"
      ],
      "metadata": {
        "colab": {
          "base_uri": "https://localhost:8080/"
        },
        "id": "lE_eIHo13ulP",
        "outputId": "c4b349a0-d9db-46e5-f22e-3fa8ae1659ac"
      },
      "execution_count": 26,
      "outputs": [
        {
          "output_type": "stream",
          "name": "stdout",
          "text": [
            "R² : -0.3002689195541226\n"
          ]
        }
      ]
    },
    {
      "cell_type": "code",
      "source": [
        "df.head()"
      ],
      "metadata": {
        "id": "46A_hjnjgQ4s"
      },
      "execution_count": null,
      "outputs": []
    },
    {
      "cell_type": "code",
      "source": [
        "#interpretation\n",
        "#Un RMSE faible signifie que les valeurs prédites sont proches des valeurs réelles, donc le modèle est précis.\n",
        "#Un RMSE élevé indique que les prédictions sont souvent loin des valeurs réelles, ce qui signifie que le modèle fait des erreurs importantes."
      ],
      "metadata": {
        "id": "sAdubb3ceDi_"
      },
      "execution_count": null,
      "outputs": []
    },
    {
      "cell_type": "code",
      "source": [
        "from sklearn.model_selection import GridSearchCV\n",
        "from sklearn.neighbors import KNeighborsRegressor\n",
        "\n",
        "# Définir les paramètres à tester\n",
        "param_grid = {\n",
        "    'n_neighbors': [5, 10, 15, 20],\n",
        "    'weights': ['uniform', 'distance'],\n",
        "    'algorithm': ['auto', 'ball_tree', 'kd_tree'],\n",
        "}\n",
        "\n",
        "# Initialisation du modèle\n",
        "knn = KNeighborsRegressor()\n",
        "\n",
        "# Recherche des meilleurs hyperparamètres\n",
        "grid_search = GridSearchCV(estimator=knn, param_grid=param_grid, cv=5, scoring='neg_mean_squared_error')\n",
        "grid_search.fit(X_train, y_train)\n",
        "\n",
        "# Affichage des meilleurs paramètres\n",
        "print(f\"Meilleurs paramètres : {grid_search.best_params_}\")\n",
        "print(f\"Meilleur score : {grid_search.best_score_}\")\n"
      ],
      "metadata": {
        "colab": {
          "base_uri": "https://localhost:8080/"
        },
        "id": "KqezUQOw-guU",
        "outputId": "2637fcc1-49dc-49c8-f55b-50228d713b6c"
      },
      "execution_count": 27,
      "outputs": [
        {
          "output_type": "stream",
          "name": "stdout",
          "text": [
            "Meilleurs paramètres : {'algorithm': 'auto', 'n_neighbors': 20, 'weights': 'uniform'}\n",
            "Meilleur score : -51.00970701058201\n"
          ]
        }
      ]
    },
    {
      "cell_type": "code",
      "source": [
        "from sklearn.model_selection import GridSearchCV\n",
        "param_grid = {'n_neighbors': [3, 5, 7, 10], 'weights': ['uniform', 'distance']}\n",
        "grid_search = GridSearchCV(KNeighborsRegressor(), param_grid, cv=5)\n",
        "grid_search.fit(X_train_scaled, y_train)\n",
        "print(\"Meilleurs paramètres :\", grid_search.best_params_)\n"
      ],
      "metadata": {
        "colab": {
          "base_uri": "https://localhost:8080/"
        },
        "id": "nzCN_d5w7CyU",
        "outputId": "08f03e2d-af72-4134-fa22-19f4c9a566f5"
      },
      "execution_count": 28,
      "outputs": [
        {
          "output_type": "stream",
          "name": "stdout",
          "text": [
            "Meilleurs paramètres : {'n_neighbors': 10, 'weights': 'distance'}\n"
          ]
        }
      ]
    },
    {
      "cell_type": "code",
      "source": [
        "from sklearn.preprocessing import StandardScaler\n",
        "from sklearn.neighbors import KNeighborsRegressor\n",
        "from sklearn.metrics import mean_squared_error, r2_score\n",
        "\n",
        "# Normaliser les données\n",
        "scaler = StandardScaler()\n",
        "X_train_scaled = scaler.fit_transform(X_train)  # Normalisation sur X_train\n",
        "X_test_scaled = scaler.transform(X_test)  # Appliquer la même transformation sur X_test\n",
        "\n",
        "# Créer et entraîner le modèle KNN avec les meilleurs paramètres\n",
        "knn_best = KNeighborsRegressor(n_neighbors=20, weights='uniform')\n",
        "knn_best.fit(X_train_scaled, y_train)\n",
        "\n",
        "# Prédictions sur les données de test\n",
        "y_pred_knn_best = knn_best.predict(X_test_scaled)\n",
        "\n",
        "# Évaluation\n",
        "rmse_knn_best = np.sqrt(mean_squared_error(y_test, y_pred_knn_best))\n",
        "r2_knn_best = r2_score(y_test, y_pred_knn_best)\n",
        "\n",
        "# Affichage des résultats\n",
        "print(f\"KNN (avec meilleurs paramètres) - RMSE: {rmse_knn_best:.2f},\")\n",
        "# Calcul du R² ajusté\n",
        "n = len(y_test)  # Nombre d'observations dans les données de test\n",
        "p = X_test_scaled.shape[1]  # Nombre de prédicteurs dans le modèle\n",
        "\n",
        "\n",
        "r2_knn_adj = 1 - ((1 + r2_knn_best) * (n -1)) / (n + p + 1)\n",
        "\n",
        "print(f\"KNN - RMSE: {rmse_knn_best:.2f}, R² : {r2_knn_adj:.2f}\")\n"
      ],
      "metadata": {
        "colab": {
          "base_uri": "https://localhost:8080/"
        },
        "id": "xiZ-l_kg5VkD",
        "outputId": "dfd472c1-3b0f-413e-d6a5-8eed77732f7e"
      },
      "execution_count": 31,
      "outputs": [
        {
          "output_type": "stream",
          "name": "stdout",
          "text": [
            "KNN (avec meilleurs paramètres) - RMSE: 5.31,\n",
            "KNN - RMSE: 5.31, R² : 0.34\n"
          ]
        }
      ]
    },
    {
      "cell_type": "code",
      "source": [
        "import xgboost as xgb\n",
        "from sklearn.metrics import mean_squared_error, r2_score\n",
        "\n",
        "# Créer un modèle XGBoost\n",
        "xgb_model = xgb.XGBRegressor(random_state=42, objective='reg:squarederror')\n",
        "\n",
        "# Entraîner le modèle\n",
        "xgb_model.fit(X_train_scaled, y_train)\n",
        "\n",
        "# Prédire sur les données de test\n",
        "y_pred_xgb = xgb_model.predict(X_test_scaled)\n",
        "\n",
        "# Calculer les performances\n",
        "rmse_xgb = np.sqrt(mean_squared_error(y_test, y_pred_xgb))\n",
        "r2_xgb = r2_score(y_test, y_pred_xgb)\n",
        "\n",
        "n = len(y_test)  # Nombre d'observations dans les données de test\n",
        "p = X_test_scaled.shape[1]  # Nombre de prédicteurs dans le modèle\n",
        "n\n",
        "print(n,p)\n",
        "r2_xgb_adj = 1 +((1 + r2_xgb) * (n -1)) / (n - p - 1)\n",
        "\n",
        "print(f\"XGBoost - RMSE: {rmse_xgb:.2f}, R² : {r2_xgb_adj:.2f}\")\n"
      ],
      "metadata": {
        "colab": {
          "base_uri": "https://localhost:8080/"
        },
        "id": "9mQX6A-a7zXH",
        "outputId": "ab432c37-2e5c-417a-ef28-5fb72c92f80d"
      },
      "execution_count": 32,
      "outputs": [
        {
          "output_type": "stream",
          "name": "stdout",
          "text": [
            "35 7\n",
            "XGBoost - RMSE: 7.16, R² : 0.86\n"
          ]
        }
      ]
    },
    {
      "cell_type": "markdown",
      "source": [
        "\n",
        "# **Série temp**\n",
        "\n"
      ],
      "metadata": {
        "id": "AQuA_3KQtP_f"
      }
    }
  ]
}