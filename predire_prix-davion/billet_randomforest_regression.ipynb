{
  "nbformat": 4,
  "nbformat_minor": 0,
  "metadata": {
    "colab": {
      "provenance": []
    },
    "kernelspec": {
      "name": "python3",
      "display_name": "Python 3"
    },
    "language_info": {
      "name": "python"
    }
  },
  "cells": [
    {
      "cell_type": "code",
      "execution_count": 3,
      "metadata": {
        "colab": {
          "base_uri": "https://localhost:8080/"
        },
        "id": "tIqAZVkvaLVY",
        "outputId": "01c887c2-9a2a-4bc8-f32a-7225557f3d96"
      },
      "outputs": [
        {
          "output_type": "stream",
          "name": "stdout",
          "text": [
            "✅ Modèle entraîné — RMSE : 375.00 DT\n",
            "📊 Coefficient de détermination (R²) : 0.80\n",
            "\n",
            "🔮 Résultat de prédiction :\n",
            "💰 Prix estimé : 533.88 DT\n",
            "🏢 Entreprise probable : 6\n",
            "🛫 Compagnie probable : 2\n"
          ]
        }
      ],
      "source": [
        "# 📦 Installer les packages si besoin\n",
        "# !pip install pandas scikit-learn\n",
        "\n",
        "import pandas as pd\n",
        "import numpy as np\n",
        "from sklearn.ensemble import RandomForestRegressor\n",
        "from sklearn.model_selection import train_test_split\n",
        "from sklearn.preprocessing import OneHotEncoder\n",
        "from sklearn.compose import ColumnTransformer\n",
        "from sklearn.pipeline import Pipeline\n",
        "from sklearn.metrics import mean_squared_error, r2_score\n",
        "from google.colab import files\n",
        "\n",
        "# 📁 Lecture du fichier augmenté\n",
        "df = pd.read_csv(\"BILLET1_augmented.csv\")  # ou \"BILLET1_augmented.csv\" si dans ton Colab\n",
        "\n",
        "# ✅ Conversion des dates\n",
        "df['fk_Date_Depart'] = pd.to_datetime(df['fk_Date_Depart'], dayfirst=True, errors='coerce')\n",
        "df['fk_Date_Arrivee'] = pd.to_datetime(df['fk_Date_Arrivee'], dayfirst=True, errors='coerce')\n",
        "\n",
        "# 📆 Garder dates format texte pour prédiction directe\n",
        "df['fk_Date_Depart_str'] = df['fk_Date_Depart'].dt.strftime(\"%d/%m/%Y\")\n",
        "df['fk_Date_Arrivee_str'] = df['fk_Date_Arrivee'].dt.strftime(\"%d/%m/%Y\")\n",
        "\n",
        "# 🔎 Nettoyage\n",
        "df = df.dropna(subset=[\n",
        "    'fk_Date_Depart_str', 'fk_Date_Arrivee_str',\n",
        "    'fk_ville_depart', 'fk_ville_Arrivee',\n",
        "    'classe', 'bagage', 'prix_vol'\n",
        "])\n",
        "\n",
        "# ✅ Variables\n",
        "X = df[[\n",
        "    'fk_Date_Depart_str', 'fk_Date_Arrivee_str',\n",
        "    'fk_ville_depart', 'fk_ville_Arrivee',\n",
        "    'classe', 'bagage'\n",
        "]]\n",
        "y = df['prix_vol']\n",
        "\n",
        "compagnie = df['fk_compagnie']\n",
        "entreprise = df['fk_entreprise']\n",
        "\n",
        "# 🔁 Encodage\n",
        "categorical_cols = X.columns.tolist()\n",
        "preprocessor = ColumnTransformer([\n",
        "    ('cat', OneHotEncoder(handle_unknown='ignore'), categorical_cols)\n",
        "])\n",
        "\n",
        "# 🔨 Pipeline complet\n",
        "pipeline = Pipeline([\n",
        "    ('preprocessor', preprocessor),\n",
        "    ('model', RandomForestRegressor(n_estimators=150, random_state=42))\n",
        "])\n",
        "\n",
        "# 🎯 Split train/test\n",
        "X_train, X_test, y_train, y_test = train_test_split(X, y, test_size=0.2, random_state=42)\n",
        "compagnie_test = compagnie.loc[y_test.index]\n",
        "entreprise_test = entreprise.loc[y_test.index]\n",
        "\n",
        "# 🚀 Entraînement\n",
        "pipeline.fit(X_train, y_train)\n",
        "\n",
        "# 🔍 Évaluation\n",
        "y_pred = pipeline.predict(X_test)\n",
        "rmse = np.sqrt(mean_squared_error(y_test, y_pred))\n",
        "r2 = r2_score(y_test, y_pred)\n",
        "print(f\"✅ Modèle entraîné — RMSE : {rmse:.2f} DT\")\n",
        "print(f\"📊 Coefficient de détermination (R²) : {r2:.2f}\")\n",
        "\n",
        "# 🔮 Prédiction personnalisée\n",
        "def predict_billet(date_dep, date_arr, ville_dep, ville_arr, classe, bagage):\n",
        "    input_data = pd.DataFrame([{\n",
        "        'fk_Date_Depart_str': date_dep,\n",
        "        'fk_Date_Arrivee_str': date_arr,\n",
        "        'fk_ville_depart': ville_dep,\n",
        "        'fk_ville_Arrivee': ville_arr,\n",
        "        'classe': classe,\n",
        "        'bagage': bagage\n",
        "    }])\n",
        "    predicted_price = pipeline.predict(input_data)[0]\n",
        "\n",
        "    # Recherche de ligne similaire pour suggérer entreprise/compagnie\n",
        "    match = df[\n",
        "        (df['fk_ville_depart'] == ville_dep) &\n",
        "        (df['fk_ville_Arrivee'] == ville_arr) &\n",
        "        (df['classe'] == classe) &\n",
        "        (df['bagage'] == bagage)\n",
        "    ]\n",
        "    entreprise_pred = match['fk_entreprise'].mode().iloc[0] if not match.empty else \"N/A\"\n",
        "    compagnie_pred = match['fk_compagnie'].mode().iloc[0] if not match.empty else \"N/A\"\n",
        "\n",
        "    return round(predicted_price, 2), entreprise_pred, compagnie_pred\n",
        "\n",
        "# ✈️ Exemple\n",
        "prix, ent, comp = predict_billet(\n",
        "    date_dep=\"12/02/2024\",\n",
        "    date_arr=\"16/02/2024\",\n",
        "    ville_dep=\"Tunis\",\n",
        "    ville_arr=\"Rome\",\n",
        "    classe=\"Economique\",\n",
        "    bagage=\"Inclus\"\n",
        ")\n",
        "\n",
        "print(f\"\\n🔮 Résultat de prédiction :\")\n",
        "print(f\"💰 Prix estimé : {prix} DT\")\n",
        "print(f\"🏢 Entreprise probable : {ent}\")\n",
        "print(f\"🛫 Compagnie probable : {comp}\")\n"
      ]
    },
    {
      "cell_type": "code",
      "source": [
        "# ✈️ Exemple\n",
        "prix, ent, comp = predict_billet(\n",
        "    date_dep=\"20/08/2023\",\n",
        "    date_arr=\"20/08/2023\",\n",
        "    ville_dep=\"Tunis\",\n",
        "    ville_arr=\"Berlin\",\n",
        "    classe=\"Économique\",\n",
        "    bagage=\"Inclus\"\n",
        ")\n",
        "\n",
        "print(f\"\\n🔮 Résultat de prédiction :\")\n",
        "print(f\"💰 Prix estimé : {prix} DT\")\n",
        "print(f\"🏢 Entreprise probable : {ent}\")\n",
        "print(f\"🛫 Compagnie probable : {comp}\")"
      ],
      "metadata": {
        "colab": {
          "base_uri": "https://localhost:8080/"
        },
        "id": "W86F7plVaO86",
        "outputId": "8cbbefef-b871-4cc4-f4be-e63dc3032214"
      },
      "execution_count": 5,
      "outputs": [
        {
          "output_type": "stream",
          "name": "stdout",
          "text": [
            "\n",
            "🔮 Résultat de prédiction :\n",
            "💰 Prix estimé : 1549.15 DT\n",
            "🏢 Entreprise probable : 5\n",
            "🛫 Compagnie probable : 7\n"
          ]
        }
      ]
    },
    {
      "cell_type": "code",
      "source": [],
      "metadata": {
        "id": "QyFbcEvRbfRi"
      },
      "execution_count": null,
      "outputs": []
    }
  ]
}