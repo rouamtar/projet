{
  "nbformat": 4,
  "nbformat_minor": 0,
  "metadata": {
    "colab": {
      "provenance": []
    },
    "kernelspec": {
      "name": "python3",
      "display_name": "Python 3"
    },
    "language_info": {
      "name": "python"
    }
  },
  "cells": [
    {
      "cell_type": "code",
      "source": [
        "import pandas as pd\n",
        "import numpy as np\n",
        "from sklearn.preprocessing import OneHotEncoder, MinMaxScaler\n",
        "from sklearn.model_selection import train_test_split\n",
        "from sklearn.neighbors import KNeighborsRegressor\n",
        "from sklearn.ensemble import RandomForestRegressor, GradientBoostingRegressor\n",
        "from sklearn.metrics import r2_score, mean_absolute_error, mean_squared_error\n",
        "import joblib"
      ],
      "metadata": {
        "id": "utf1ZmdrNbR-"
      },
      "execution_count": null,
      "outputs": []
    },
    {
      "cell_type": "code",
      "source": [
        "# === Prétraitement et Entraînement ===\n",
        "\n",
        "# Load data\n",
        "df = pd.read_csv(\"E1.csv\", sep=\";\")\n",
        "df = df.drop(columns=['Prix_Unitaire_Totale'])\n",
        "df['Prix_Total'] = df['Prix_Total'].astype(int)\n",
        "\n",
        "# Transform year to relative value\n",
        "min_year = df['Annee'].min()\n",
        "df['Annee_relative'] = df['Annee'] - min_year\n",
        "df = df.drop(columns=['Annee'])\n",
        "\n",
        "# Target\n",
        "y = df['Prix_Total']\n",
        "\n",
        "# One-hot encode categorical vars\n",
        "encoder = OneHotEncoder(handle_unknown='ignore', sparse_output=False)\n",
        "encoded_cat = encoder.fit_transform(df[['Delegation', 'localite']])\n",
        "encoded_cat_df = pd.DataFrame(encoded_cat, columns=encoder.get_feature_names_out(['Delegation', 'localite']))\n",
        "df = df.drop(columns=['Delegation', 'localite']).reset_index(drop=True)\n",
        "df = pd.concat([df, encoded_cat_df], axis=1)\n",
        "\n",
        "# Features\n",
        "X = df.drop(columns=['Prix_Total'])\n",
        "\n",
        "# Normalize numerical features\n",
        "scaler = MinMaxScaler()\n",
        "X_scaled = X.copy()\n",
        "X_scaled[['Quantite_Totale', 'Annee_relative']] = scaler.fit_transform(X_scaled[['Quantite_Totale', 'Annee_relative']])"
      ],
      "metadata": {
        "id": "CTceYw6kNcgs"
      },
      "execution_count": null,
      "outputs": []
    },
    {
      "cell_type": "code",
      "source": [
        "# Train-test split\n",
        "X_train, X_test, y_train, y_test = train_test_split(X_scaled, y, test_size=0.2, random_state=42)\n",
        "\n",
        "# Models\n",
        "models = {\n",
        "    'KNN': KNeighborsRegressor(n_neighbors=5),\n",
        "    'Random Forest': RandomForestRegressor(n_estimators=100, random_state=42),\n",
        "    'Gradient Boosting': GradientBoostingRegressor(n_estimators=100, random_state=42)\n",
        "}\n",
        "\n",
        "# Train and select best\n",
        "best_model = None\n",
        "best_r2 = -np.inf\n",
        "\n",
        "for name, model in models.items():\n",
        "    model.fit(X_train, y_train)\n",
        "    y_pred = model.predict(X_test)\n",
        "    r2 = r2_score(y_test, y_pred)\n",
        "    print(f\"{name} - R² Score: {r2:.4f}\")\n",
        "    if r2 > best_r2:\n",
        "        best_r2 = r2\n",
        "        best_model = model\n",
        "\n",
        "print(f\"\\n✅ Best Model: {best_model.__class__.__name__} with R² Score: {best_r2:.4f}\")"
      ],
      "metadata": {
        "id": "bp2HtGvtNciO"
      },
      "execution_count": null,
      "outputs": []
    },
    {
      "cell_type": "code",
      "source": [
        "# Evaluate\n",
        "y_pred_best = best_model.predict(X_test)\n",
        "mae = mean_absolute_error(y_test, y_pred_best)\n",
        "mse = mean_squared_error(y_test, y_pred_best)\n",
        "rmse = np.sqrt(mse)\n",
        "\n",
        "print(f\"🔹 MAE: {mae:.2f}\")\n",
        "print(f\"🔹 MSE: {mse:.2f}\")\n",
        "print(f\"🔹 RMSE: {rmse:.2f}\")\n",
        "print(f\"🔹 R² Score: {best_r2:.4f}\")"
      ],
      "metadata": {
        "id": "fXSHCkbiNcls"
      },
      "execution_count": null,
      "outputs": []
    },
    {
      "cell_type": "code",
      "source": [
        "# Save components\n",
        "feature_columns = X_scaled.columns.tolist()\n",
        "joblib.dump(best_model, 'best_model_relative.pkl')\n",
        "joblib.dump(encoder, 'onehot_encoder_relative.pkl')\n",
        "joblib.dump(scaler, 'scaler_relative.pkl')\n",
        "joblib.dump(feature_columns, 'feature_columns_relative.pkl')"
      ],
      "metadata": {
        "id": "fLruSgUHNcnX"
      },
      "execution_count": null,
      "outputs": []
    },
    {
      "cell_type": "code",
      "source": [
        "# === Fonction de prédiction ===\n",
        "\n",
        "def predict_price(annee, mois, quantite_totale, delegation, localite):\n",
        "    model = joblib.load('best_model_relative.pkl')\n",
        "    encoder = joblib.load('onehot_encoder_relative.pkl')\n",
        "    scaler = joblib.load('scaler_relative.pkl')\n",
        "    feature_columns = joblib.load('feature_columns_relative.pkl')\n",
        "\n",
        "    min_year = 2018  # hardcoded to match training data\n",
        "    annee_relative = annee - min_year\n",
        "\n",
        "    input_df = pd.DataFrame([{\n",
        "        'Mois': mois,\n",
        "        'Quantite_Totale': quantite_totale,\n",
        "        'Annee_relative': annee_relative,\n",
        "        'Delegation': delegation,\n",
        "        'localite': localite\n",
        "    }])\n",
        "\n",
        "    # print(\"\\n🔍 Input brut :\")\n",
        "    # print(input_df)\n",
        "\n",
        "    encoded_input = encoder.transform(input_df[['Delegation', 'localite']])\n",
        "    encoded_input_df = pd.DataFrame(encoded_input, columns=encoder.get_feature_names_out(['Delegation', 'localite']))\n",
        "\n",
        "    input_df = input_df.drop(columns=['Delegation', 'localite']).reset_index(drop=True)\n",
        "    input_df[['Quantite_Totale', 'Annee_relative']] = scaler.transform(input_df[['Quantite_Totale', 'Annee_relative']])\n",
        "    input_df[['Quantite_Totale', 'Annee_relative']] = np.clip(input_df[['Quantite_Totale', 'Annee_relative']], 0, 1)\n",
        "\n",
        "    input_df = pd.concat([input_df, encoded_input_df], axis=1)\n",
        "\n",
        "    for col in feature_columns:\n",
        "        if col not in input_df.columns:\n",
        "            input_df[col] = 0\n",
        "    input_df = input_df[feature_columns]\n",
        "\n",
        "    # print(\"\\n✅ Données finales envoyées au modèle :\")\n",
        "    # print(input_df)\n",
        "\n",
        "    prediction = model.predict(input_df)[0]\n",
        "    return prediction"
      ],
      "metadata": {
        "id": "gUzicaimNwux"
      },
      "execution_count": null,
      "outputs": []
    },
    {
      "cell_type": "code",
      "execution_count": null,
      "metadata": {
        "id": "Y9gCIhblNXN0"
      },
      "outputs": [],
      "source": [
        "# === Test ===\n",
        "if __name__ == \"__main__\":\n",
        "    pred = predict_price(2025, 6, 20000, \"Monastir\", \"Jemmal\")\n",
        "    print(f\"\\n🎯 Predicted Prix_Total: {pred:.2f}\")\n"
      ]
    },
    {
      "cell_type": "code",
      "source": [
        "# === Test ===\n",
        "if __name__ == \"__main__\":\n",
        "    test_cases = [\n",
        "        (2023, 6, 15000, \"Monastir\", \"Jemmal\"),\n",
        "        (2023, 6, 15000, \"Monastir\", \"Jemal\"),\n",
        "        (2023, 6, 15000, \"x\", \"x\"),\n",
        "        (2020, 3, 18000, \"Sousse\", \"Kalaâ Kebira\"),\n",
        "        (2019, 12, 5000, \"Le Kef\", \"Dahmani\"),\n",
        "        (2022, 5, 25000, \"Médenine\", \"Zarzis\"),\n",
        "        (2024, 1, 20000, \"Monastir\", \"Sayada\"),\n",
        "        (2025, 6, 20000, \"Monastir\", \"Jemmal\"),\n",
        "        (2030, 6, 20000, \"Monastir\", \"Jemmal\"),  # extrapolation future\n",
        "        (2018, 1, 10000, \"Sousse\", \"Kalaâ Kebira\"),  # début des données\n",
        "    ]\n",
        "\n",
        "    for i, (annee, mois, qte, delegation, localite) in enumerate(test_cases, 1):\n",
        "        pred = predict_price(annee, mois, qte, delegation, localite)\n",
        "        print(f\"🧪 Test {i} — {annee}, {mois}, {qte}, {delegation}, {localite} → 📦 Prix_Total = {pred:.2f}\")\n"
      ],
      "metadata": {
        "id": "-kFJumAWOAb5"
      },
      "execution_count": null,
      "outputs": []
    }
  ]
}